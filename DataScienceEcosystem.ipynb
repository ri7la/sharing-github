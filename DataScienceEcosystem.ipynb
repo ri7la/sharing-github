{
 "cells": [
  {
   "cell_type": "markdown",
   "id": "d43dd360-fd46-4bf2-8f78-d0e246caa654",
   "metadata": {},
   "source": [
    "# Data Science Tools and Ecosystem"
   ]
  },
  {
   "cell_type": "markdown",
   "id": "b6ca92ca-dc01-4e7b-bf0d-5f3f50965769",
   "metadata": {},
   "source": [
    "In this notebook, Data Science Tools and Ecosystem are summarized."
   ]
  },
  {
   "cell_type": "markdown",
   "id": "d114d2f2-bc09-438e-9c69-fe90b8e2c121",
   "metadata": {},
   "source": [
    "**Objectives:**\n",
    "- List popular languages for Data Science.\n",
    "- Some librairies used by Data Scientist.\n",
    "- Three development environment open source tools used in data science.\n",
    "- Example of arithmetic expression in python."
   ]
  },
  {
   "cell_type": "markdown",
   "id": "52965bab-4246-43fc-92b9-9f6491d2be56",
   "metadata": {},
   "source": [
    "Some of the popular languages that Data Scientists use are:\n",
    "1. Python\n",
    "2. R\n",
    "3. Scala"
   ]
  },
  {
   "cell_type": "markdown",
   "id": "bbfb1f8f-d2cc-4fa4-8bb9-58a9105da338",
   "metadata": {},
   "source": [
    "Some of the commonly used libraries used by Data Scientists include:\n",
    "1. Pandas\n",
    "2. Matplotlib\n",
    "3. scikit-learn"
   ]
  },
  {
   "cell_type": "markdown",
   "id": "d5180168-80b6-4db4-b1bd-29f19f016a36",
   "metadata": {},
   "source": [
    "|Data Science Tools|\n",
    "|-----------|\n",
    "|Jupyter Notebooks|\n",
    "|Rstudio|\n",
    "|Apache Zeppelin|"
   ]
  },
  {
   "cell_type": "markdown",
   "id": "f7a7e151-7b14-4bae-b28d-093c5c48fa11",
   "metadata": {},
   "source": [
    "### Below are a few examples of evaluating arithmetic expressions in Python"
   ]
  },
  {
   "cell_type": "code",
   "execution_count": 1,
   "id": "b09c1221-4389-4e5e-8598-59d39a894fe0",
   "metadata": {},
   "outputs": [],
   "source": [
    "# This a simple arithmetic expression to mutiply then add integers."
   ]
  },
  {
   "cell_type": "code",
   "execution_count": 2,
   "id": "71dd9057-d156-4049-aab4-0075fd434801",
   "metadata": {},
   "outputs": [
    {
     "data": {
      "text/plain": [
       "17"
      ]
     },
     "execution_count": 2,
     "metadata": {},
     "output_type": "execute_result"
    }
   ],
   "source": [
    "(3*4)+5"
   ]
  },
  {
   "cell_type": "code",
   "execution_count": 4,
   "id": "b0b7a3e1-822d-4c92-9dcd-488e9344ae93",
   "metadata": {},
   "outputs": [
    {
     "data": {
      "text/plain": [
       "3.3333333333333335"
      ]
     },
     "execution_count": 4,
     "metadata": {},
     "output_type": "execute_result"
    }
   ],
   "source": [
    "#This will convert 200 minutes to hours by diving by 60.\n",
    "200/60"
   ]
  },
  {
   "cell_type": "markdown",
   "id": "2f36a8b5-a45c-4680-a9a2-07488ebee273",
   "metadata": {},
   "source": [
    "## Author\n",
    "BENI-HSSANE Ayoub"
   ]
  }
 ],
 "metadata": {
  "kernelspec": {
   "display_name": "Python 3 (ipykernel)",
   "language": "python",
   "name": "python3"
  },
  "language_info": {
   "codemirror_mode": {
    "name": "ipython",
    "version": 3
   },
   "file_extension": ".py",
   "mimetype": "text/x-python",
   "name": "python",
   "nbconvert_exporter": "python",
   "pygments_lexer": "ipython3",
   "version": "3.10.12"
  }
 },
 "nbformat": 4,
 "nbformat_minor": 5
}
